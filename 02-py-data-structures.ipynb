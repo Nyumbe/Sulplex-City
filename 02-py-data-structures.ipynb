{
 "cells": [
  {
   "cell_type": "markdown",
   "id": "1101e7d3",
   "metadata": {},
   "source": [
    "## Python Data Structures"
   ]
  },
  {
   "cell_type": "markdown",
   "id": "96e389cb",
   "metadata": {},
   "source": [
    "### Python Data Structures are grouped into the following categories.\n",
    "1. Text Type: str\n",
    "2. Numeric Types: int, float, complex\n",
    "3. Sequence Types: list, tuple, range\n",
    "4. Mapping Type: dict\n",
    "5. Set Types: set, frozenset\n",
    "6. Boolean Type: bool\n",
    "7. Binary Types: bytes, bytearray, memoryview\n",
    "8. None Type: None"
   ]
  },
  {
   "cell_type": "markdown",
   "id": "c7938b51",
   "metadata": {},
   "source": [
    "### List\n",
    "General purpose and widely used data structure, grow and shrink size, sequence type, sortable, mixed types, ordered but can be changed, duplicate entries are present.\n"
   ]
  },
  {
   "cell_type": "code",
   "execution_count": 1,
   "id": "cfeaba75",
   "metadata": {},
   "outputs": [
    {
     "name": "stdout",
     "output_type": "stream",
     "text": [
      "mooooo\n",
      "mooooo\n",
      "mooooo\n",
      "mooooo\n"
     ]
    }
   ],
   "source": [
    "# students = [] \n",
    "for i in [0, 1, 2, 3]: # list\n",
    "    print(\"mooooo\")"
   ]
  },
  {
   "cell_type": "code",
   "execution_count": 2,
   "id": "7d9c130e",
   "metadata": {},
   "outputs": [
    {
     "name": "stdout",
     "output_type": "stream",
     "text": [
      "John\n",
      "Joe\n",
      "Jacob\n",
      "Job\n"
     ]
    }
   ],
   "source": [
    "students = [\"John\", \"Joe\", \"Jacob\", \"Job\"]\n",
    "\n",
    "for student in students:\n",
    "    print(student)\n"
   ]
  },
  {
   "cell_type": "code",
   "execution_count": 4,
   "id": "6f0f92f7",
   "metadata": {},
   "outputs": [
    {
     "name": "stdout",
     "output_type": "stream",
     "text": [
      "John\n",
      "Joe\n",
      "Jacob\n",
      "Job\n"
     ]
    }
   ],
   "source": [
    "print(students[0])\n",
    "print(students[1])\n",
    "print(students[2])\n",
    "print(students[3])"
   ]
  },
  {
   "cell_type": "code",
   "execution_count": null,
   "id": "ecac7fb5",
   "metadata": {},
   "outputs": [],
   "source": [
    "a = 5j # complex\n",
    "type(a)\n",
    "lst = [] # list\n",
    "tp = () # tuple\n",
    "str1 = 'John' # string\n",
    "str1.upper() # change to uppercase\n",
    "name = 'z' # character\n",
    "print(str1[1:]) # print from index 1 till the end\n",
    "lst.append()\n",
    "lst.insert(4, 49)\n",
    "lst.reverse()\n",
    "n = 3<4 # n = True\n",
    "int(n) # bool\n",
    "myset = {1, 'John'}\n",
    "fruits = {'mango', 'banana'}\n",
    "fruits = {'mango', 'mango', 'banana'} # sets do not permit duplicates - this is a set of only 2 members.\n",
    "Len()\n",
    "dt = { 1: 'mangoes', 2: 'bananas'} # this is a dict, notice difference between sets and dictionary"
   ]
  },
  {
   "cell_type": "code",
   "execution_count": 2,
   "id": "30d9e110",
   "metadata": {},
   "outputs": [
    {
     "name": "stdout",
     "output_type": "stream",
     "text": [
      "n\n"
     ]
    }
   ],
   "source": [
    "str1 = 'John'\n",
    "print(str1[-1:])"
   ]
  },
  {
   "cell_type": "markdown",
   "id": "a953de5c",
   "metadata": {},
   "source": [
    "### Range"
   ]
  },
  {
   "cell_type": "code",
   "execution_count": null,
   "id": "18ca4f67",
   "metadata": {},
   "outputs": [],
   "source": [
    "# Try out the following lines\n",
    "range(10)\n",
    "list(range(10))\n",
    "list(range(2, 10, 2))\n",
    "type (range (10) )"
   ]
  },
  {
   "cell_type": "code",
   "execution_count": 9,
   "id": "79079460",
   "metadata": {},
   "outputs": [
    {
     "name": "stdout",
     "output_type": "stream",
     "text": [
      "1 - John\n",
      "2 - Joe\n",
      "3 - Jacob\n",
      "4 - Job\n"
     ]
    }
   ],
   "source": [
    "for s in range(len(students)):\n",
    "    print(s+1, students[s], sep=\" - \")\n",
    "    "
   ]
  },
  {
   "cell_type": "code",
   "execution_count": 10,
   "id": "fba78114",
   "metadata": {},
   "outputs": [
    {
     "name": "stdout",
     "output_type": "stream",
     "text": [
      "Yes he is.\n"
     ]
    }
   ],
   "source": [
    "if \"Job\" in students:\n",
    "    print(\"Yes he is.\")\n",
    "else:\n",
    "    print(\"Nope\")"
   ]
  },
  {
   "cell_type": "markdown",
   "id": "989ed3e7",
   "metadata": {},
   "source": [
    "### Dictionary"
   ]
  },
  {
   "cell_type": "code",
   "execution_count": 19,
   "id": "536f8c94",
   "metadata": {},
   "outputs": [],
   "source": [
    "# dictionary = {keys: values}\n",
    "#students = {} # empty dictionary\n",
    "students2 = {\n",
    "    \"Okello\": \"Gulu\",\n",
    "    \"Kizito\": \"Mukono\",\n",
    "    \"Onyango\": \"Tororo\",\n",
    "    \"Mbabazi\": \"Rukungiri\"\n",
    "}"
   ]
  },
  {
   "cell_type": "code",
   "execution_count": 21,
   "id": "4aef8e18",
   "metadata": {},
   "outputs": [
    {
     "name": "stdout",
     "output_type": "stream",
     "text": [
      "Okello - Gulu\n",
      "Kizito - Mukono\n",
      "Onyango - Tororo\n",
      "Mbabazi - Rukungiri\n"
     ]
    }
   ],
   "source": [
    "for student in students2:\n",
    "    print(student, students2[student], sep=\" - \")"
   ]
  },
  {
   "cell_type": "code",
   "execution_count": 22,
   "id": "6b22c153",
   "metadata": {},
   "outputs": [
    {
     "name": "stdout",
     "output_type": "stream",
     "text": [
      "Okello\n",
      "Kizito\n",
      "Onyango\n",
      "Mbabazi\n"
     ]
    }
   ],
   "source": [
    "for student in students2:\n",
    "    print(student)"
   ]
  },
  {
   "cell_type": "code",
   "execution_count": null,
   "id": "e950fbff",
   "metadata": {},
   "outputs": [],
   "source": [
    "###################\n",
    "# SN  Name    District     Field\n",
    "# 0   Okello  Gulu         Engineering\n",
    "# 1   Kizito  Mukono       Business\n",
    "#\n",
    "#"
   ]
  },
  {
   "cell_type": "code",
   "execution_count": 29,
   "id": "b4684f46",
   "metadata": {},
   "outputs": [
    {
     "name": "stdout",
     "output_type": "stream",
     "text": [
      "Okello,Gulu,Engineering\n",
      "Kizito,Mukono,Business\n",
      "Onyango,Tororo,Agric\n",
      "Mbabazi,Rukungiri,Education\n"
     ]
    }
   ],
   "source": [
    "persons = [\n",
    "    {\"name\": \"Okello\", \"district\":\"Gulu\", \"field\": \"Engineering\"}, \n",
    "    {\"name\": \"Kizito\", \"district\":\"Mukono\", \"field\": \"Business\"}, \n",
    "    {\"name\": \"Onyango\", \"district\":\"Tororo\", \"field\": \"Agric\"}, \n",
    "    {\"name\": \"Mbabazi\", \"district\":\"Rukungiri\", \"field\": None}\n",
    "]\n",
    "for person in persons:\n",
    "    print(person[\"name\"], person[\"district\"], person[\"field\"], sep=\",\")"
   ]
  },
  {
   "cell_type": "code",
   "execution_count": null,
   "id": "03b8d416",
   "metadata": {},
   "outputs": [],
   "source": [
    "d = {\"james\": \"samsung\", \"jacob\": \"iPhone\", \"Richard\": \"Techno\"}"
   ]
  },
  {
   "cell_type": "code",
   "execution_count": null,
   "id": "03209e2c",
   "metadata": {},
   "outputs": [],
   "source": [
    "# try out the following line.\n",
    "d\n",
    "d.keys()\n",
    "d.values()\n",
    "d[\"jacob\"]\n",
    "d.get(\"Richard\")"
   ]
  },
  {
   "cell_type": "markdown",
   "id": "326d3fb4",
   "metadata": {},
   "source": [
    "### Exercise 2\n",
    "\n",
    "Attempt Practice Projects on page 167 - 168 from the book \"Automate the Boring Stuff with Python by Al Sweigart\"\n",
    "\n",
    "Extract from page 167: Write a function named isValidChessBoard() that takes a dictionary argument and returns True or False depending on if the board is valid."
   ]
  }
 ],
 "metadata": {
  "kernelspec": {
   "display_name": "Python 3.10.4 64-bit",
   "language": "python",
   "name": "python3"
  },
  "language_info": {
   "codemirror_mode": {
    "name": "ipython",
    "version": 3
   },
   "file_extension": ".py",
   "mimetype": "text/x-python",
   "name": "python",
   "nbconvert_exporter": "python",
   "pygments_lexer": "ipython3",
   "version": "3.10.4"
  },
  "vscode": {
   "interpreter": {
    "hash": "aee8b7b246df8f9039afb4144a1f6fd8d2ca17a180786b69acc140d282b71a49"
   }
  }
 },
 "nbformat": 4,
 "nbformat_minor": 5
}
