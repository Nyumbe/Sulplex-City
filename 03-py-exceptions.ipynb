{
 "cells": [
  {
   "cell_type": "markdown",
   "id": "20663bc8",
   "metadata": {},
   "source": [
    "# Exceptions\n",
    "- Exceptions signalize errors during code executiong\n",
    "- If an unexpected error happens which Python can not (or does not want to) handle, an exception is raised\n",
    "- Exceptions are part of a class hierarchy\n",
    "- Exception class indicates the kind of error occurred.\n",
    "- A robust program should handle exceptions which can be expected\n",
    "- Exception can be caught and processed with the try … except … clause\n",
    "        try:\n",
    "            Python commands\n",
    "        except:\n",
    "            Exception handler\n",
    "        OR\n",
    "        except ExceptionType:\n",
    "            Exception handler\n",
    "- The optional else block is executed, if no exception occured\n",
    "- The except clause can obtain the exception instance as variable for further inspection e.g. \n",
    "        except ExceptionType as errorvariable:\n",
    "            Exception handler\n",
    "- A try … except … construct may contain several except claues, but only one except clause is executed.\n",
    "- If an exception is raised, the first except clause with a matching exception will be executed\n",
    "- It is also possible to define your own exceptions via inheritance (later)\n",
    "- A script can be exited via sys.exit() - next topic\n",
    "- The raise statement can be used to throw an exception.\n",
    "        raise exception-name[optional argument]\n"
   ]
  },
  {
   "cell_type": "code",
   "execution_count": 14,
   "id": "ee1875d9",
   "metadata": {},
   "outputs": [
    {
     "name": "stdout",
     "output_type": "stream",
     "text": [
      "What is x? web\n"
     ]
    },
    {
     "ename": "ValueError",
     "evalue": "invalid literal for int() with base 10: 'web'",
     "output_type": "error",
     "traceback": [
      "\u001b[0;31m---------------------------------------------------------------------------\u001b[0m",
      "\u001b[0;31mValueError\u001b[0m                                Traceback (most recent call last)",
      "\u001b[0;32m/var/folders/w6/0wcwstvj4nj1gk_15vpb92gr0000gp/T/ipykernel_7463/3292772603.py\u001b[0m in \u001b[0;36m<module>\u001b[0;34m\u001b[0m\n\u001b[0;32m----> 1\u001b[0;31m \u001b[0mx\u001b[0m \u001b[0;34m=\u001b[0m \u001b[0mint\u001b[0m\u001b[0;34m(\u001b[0m\u001b[0minput\u001b[0m\u001b[0;34m(\u001b[0m\u001b[0;34m\"What is x? \"\u001b[0m\u001b[0;34m)\u001b[0m\u001b[0;34m)\u001b[0m\u001b[0;34m\u001b[0m\u001b[0;34m\u001b[0m\u001b[0m\n\u001b[0m\u001b[1;32m      2\u001b[0m \u001b[0mprint\u001b[0m\u001b[0;34m(\u001b[0m\u001b[0;34mf\"x is {x}\"\u001b[0m\u001b[0;34m)\u001b[0m\u001b[0;34m\u001b[0m\u001b[0;34m\u001b[0m\u001b[0m\n",
      "\u001b[0;31mValueError\u001b[0m: invalid literal for int() with base 10: 'web'"
     ]
    }
   ],
   "source": [
    "x = int(input(\"What is x? \"))\n",
    "print(f\"x is {x}\")\n",
    "# input of a none digit values generates a ValueError exception."
   ]
  },
  {
   "cell_type": "code",
   "execution_count": 13,
   "id": "37eba087",
   "metadata": {},
   "outputs": [
    {
     "name": "stdout",
     "output_type": "stream",
     "text": [
      "What is x? re\n",
      "x isn't an int\n"
     ]
    }
   ],
   "source": [
    "try:\n",
    "    x = int(input(\"What is x? \"))\n",
    "    print(f\"x is {x}\")\n",
    "except ValueError:\n",
    "    print(\"x isn't an int\")"
   ]
  },
  {
   "cell_type": "code",
   "execution_count": 3,
   "id": "6098badb",
   "metadata": {},
   "outputs": [
    {
     "name": "stdout",
     "output_type": "stream",
     "text": [
      "What is x? web\n",
      "x isn't an int\n",
      "What is x? 23\n",
      "x is 23\n"
     ]
    }
   ],
   "source": [
    "def main():\n",
    "    x = get_num()\n",
    "    print(f\"x is {x}\")\n",
    "\n",
    "def get_num():    \n",
    "    while True:\n",
    "        try:\n",
    "            x = int(input(\"What is x? \"))\n",
    "        except ValueError:\n",
    "            print(\"x isn't an int\")\n",
    "        else:\n",
    "            break\n",
    "    return x\n",
    "main()"
   ]
  },
  {
   "cell_type": "code",
   "execution_count": 7,
   "id": "0f4220e4",
   "metadata": {},
   "outputs": [
    {
     "name": "stdout",
     "output_type": "stream",
     "text": [
      "What is x? web\n",
      "What is x? john\n",
      "What is x? 78\n",
      "x is 78\n"
     ]
    }
   ],
   "source": [
    "def main():\n",
    "    x = get_num()\n",
    "    print(f\"x is {x}\")\n",
    "\n",
    "def get_num():    \n",
    "    while True:\n",
    "        try:\n",
    "            return int(input(\"What is x? \"))\n",
    "        except ValueError:\n",
    "            pass # “null operation” or a “no-op”\n",
    "\n",
    "main()"
   ]
  },
  {
   "cell_type": "code",
   "execution_count": 13,
   "id": "116a037c",
   "metadata": {},
   "outputs": [
    {
     "name": "stdout",
     "output_type": "stream",
     "text": [
      "What is x? 23\n",
      "x is 23\n"
     ]
    }
   ],
   "source": [
    "def main():\n",
    "    x = get_num(\"What is x? \")\n",
    "    print(f\"x is {x}\")\n",
    "\n",
    "def get_num(prompt):    \n",
    "    while True:\n",
    "        try:\n",
    "            return int(input(prompt))\n",
    "        except ValueError:\n",
    "            pass\n",
    "\n",
    "main()"
   ]
  },
  {
   "cell_type": "code",
   "execution_count": null,
   "id": "2538b9ef",
   "metadata": {},
   "outputs": [],
   "source": [
    "numbers = [10, 20, 30, 40, 50]\n",
    "length = 10\n",
    "if length > len(numbers):\n",
    "    raise IndexError\n",
    "    print(\"No Execution\")\n",
    "else:\n",
    "    print(\"The length is = \", length)"
   ]
  },
  {
   "cell_type": "markdown",
   "id": "8a2faee7",
   "metadata": {},
   "source": [
    "## Exercise 3\n",
    "What is the use of a raise statement? Write a code to accept two numbers and display the quotient. Appropriate exception should be raised if the user enters the second number (denominator) as zero (0)."
   ]
  },
  {
   "cell_type": "code",
   "execution_count": null,
   "id": "d0b72b1c",
   "metadata": {},
   "outputs": [],
   "source": []
  }
 ],
 "metadata": {
  "kernelspec": {
   "display_name": "Python 3 (ipykernel)",
   "language": "python",
   "name": "python3"
  },
  "language_info": {
   "codemirror_mode": {
    "name": "ipython",
    "version": 3
   },
   "file_extension": ".py",
   "mimetype": "text/x-python",
   "name": "python",
   "nbconvert_exporter": "python",
   "pygments_lexer": "ipython3",
   "version": "3.9.7"
  }
 },
 "nbformat": 4,
 "nbformat_minor": 5
}
